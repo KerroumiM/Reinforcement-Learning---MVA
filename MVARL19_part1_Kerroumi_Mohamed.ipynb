{
  "nbformat": 4,
  "nbformat_minor": 0,
  "metadata": {
    "kernelspec": {
      "name": "python3",
      "display_name": "Python 3"
    },
    "language_info": {
      "codemirror_mode": {
        "name": "ipython",
        "version": 3
      },
      "file_extension": ".py",
      "mimetype": "text/x-python",
      "name": "python",
      "nbconvert_exporter": "python",
      "pygments_lexer": "ipython3",
      "version": "3.6.8"
    },
    "colab": {
      "name": "MVARL19_part1.ipynb",
      "provenance": [],
      "private_outputs": true,
      "collapsed_sections": [],
      "toc_visible": true
    },
    "accelerator": "GPU"
  },
  "cells": [
    {
      "cell_type": "markdown",
      "metadata": {
        "id": "4P3WM-hVOPfo",
        "colab_type": "text"
      },
      "source": [
        "# Reinforcement Learning in Finite MDPs"
      ]
    },
    {
      "cell_type": "code",
      "metadata": {
        "id": "E9_DLZvWQzhb",
        "colab_type": "code",
        "colab": {}
      },
      "source": [
        "!git clone https://github.com/rlgammazero/mvarl_hands_on.git > /dev/null 2>&1"
      ],
      "execution_count": 0,
      "outputs": []
    },
    {
      "cell_type": "markdown",
      "metadata": {
        "id": "wnzUJeyJOPfq",
        "colab_type": "text"
      },
      "source": [
        "## MDPs"
      ]
    },
    {
      "cell_type": "code",
      "metadata": {
        "id": "RcWJSw_uOPfr",
        "colab_type": "code",
        "colab": {}
      },
      "source": [
        "import sys\n",
        "sys.path.insert(0, './mvarl_hands_on/utils')\n",
        "import numpy as np\n",
        "from scipy.special import softmax # for SARSA\n",
        "import matplotlib.pyplot as plt\n",
        "import json\n",
        "import math\n",
        "from cliffwalk import CliffWalk"
      ],
      "execution_count": 0,
      "outputs": []
    },
    {
      "cell_type": "markdown",
      "metadata": {
        "id": "ym-B_4HaOPfu",
        "colab_type": "text"
      },
      "source": [
        "Setting up the environment"
      ]
    },
    {
      "cell_type": "code",
      "metadata": {
        "id": "rVR5qYoLOPfv",
        "colab_type": "code",
        "colab": {}
      },
      "source": [
        "env = CliffWalk(proba_succ=0.98)\n",
        "\n",
        "####################################################################################\n",
        "# You probably want to test smaller enviroments before\n",
        "# env = ToyEnv1(gamma=0.95)\n",
        "####################################################################################\n",
        "\n",
        "# Useful attributes\n",
        "print(\"Set of states:\", env.states)\n",
        "print(\"Set of actions:\", env.actions)\n",
        "print(\"Number of states: \", env.Ns)\n",
        "print(\"Number of actions: \", env.Na)\n",
        "print(\"P has shape: \", env.P.shape)  # P[s, a, s'] = env.P[s, a, s']\n",
        "print(\"discount factor: \", env.gamma)\n",
        "print(\"proba 36 action 1 state 36\",env.P[36,1,36] )\n",
        "print(\"\")\n",
        "\n",
        "# Usefult methods\n",
        "state = env.reset() # get initial state\n",
        "print(\"initial state: \", state)\n",
        "print(\"reward at (s=1, a=3,s'=2): \", env.reward_func(1,3,2))\n",
        "print(\"\")\n",
        "\n",
        "# A random policy\n",
        "policy = np.random.randint(env.Na, size = (env.Ns,))\n",
        "print(\"random policy = \", policy, policy[36])\n",
        "\n",
        "# Interacting with the environment\n",
        "print(\"(s, a, s', r):\")\n",
        "for time in range(4):\n",
        "    action = policy[state]\n",
        "    next_state, reward, done, info = env.step(action)\n",
        "    print(state, action, next_state, reward)\n",
        "    if done:\n",
        "        break\n",
        "    state = next_state\n",
        "print(\"\")"
      ],
      "execution_count": 0,
      "outputs": []
    },
    {
      "cell_type": "markdown",
      "metadata": {
        "id": "AUlNvT3cOPfx",
        "colab_type": "text"
      },
      "source": [
        "## Question 1: Value iteration\n",
        "1. Write a function applying the optimal Bellman operator on a provided Q function: $Q_1 = LQ_0, \\; Q_0\\in \\mathbb{R}^{S\\times A}$\n",
        "2. Write a function implementing Value Iteration (VI) with $\\infty$-norm stopping condition (reuse function implemented in 1)\n",
        "3. Evaluate the convergence of your estimate, i.e., plot the value $\\|V_n - V^\\star\\|_{\\infty}$"
      ]
    },
    {
      "cell_type": "code",
      "metadata": {
        "id": "R8TLRx6MOPfy",
        "colab_type": "code",
        "colab": {}
      },
      "source": [
        "# --------------\n",
        "# Point 1\n",
        "# --------------\n",
        "def bellman_operator(Q0, Ns, Na, R, P):\n",
        "    # TODO\n",
        "    Q1= np.zeros((Ns, Na))\n",
        "    greedy_policy=np.zeros(Ns)\n",
        "    for i in range(Ns):\n",
        "      for j in range(Na):\n",
        "        S=0\n",
        "        for l in range(Ns):\n",
        "          S= S+ P[i, j,l]*max(Q0[l,:])\n",
        "        Q1[i,j]= R[i,j,0]+env.gamma*S\n",
        "    greedy_policy= np.argmax(Q1,axis=1)\n",
        "    return Q1, greedy_policy"
      ],
      "execution_count": 0,
      "outputs": []
    },
    {
      "cell_type": "code",
      "metadata": {
        "id": "jj65cQk5OPf0",
        "colab_type": "code",
        "colab": {}
      },
      "source": [
        "# --------------\n",
        "# Point 2\n",
        "# --------------\n",
        "def value_iteration(Q0, env, epsilon=1e-5):\n",
        "    # TODO (feel free to change the return argument)\n",
        "    Q_history= [Q0]\n",
        "    r_max= np.max(env.R)\n",
        "    K=int(np.log(r_max/epsilon)/np.log(1/env.gamma))\n",
        "    Q1=Q0\n",
        "    for i in range(K):\n",
        "      (Q1, greedy_policy)=  bellman_operator(Q1, env.Ns, env.Na,env.R, env.P)\n",
        "      Q_history.append(Q1)\n",
        "    return(Q1, greedy_policy, Q_history)"
      ],
      "execution_count": 0,
      "outputs": []
    },
    {
      "cell_type": "code",
      "metadata": {
        "id": "W_lBe6q6OPf2",
        "colab_type": "code",
        "colab": {}
      },
      "source": [
        "# --------------\n",
        "# Point 3\n",
        "# --------------\n",
        "with open(\"./mvarl_hands_on/data/Q_opts.json\", \"r\") as fp:\n",
        "    Qopts = json.load(fp)\n",
        "Qstar = Qopts[\"{}_{}\".format(type(env).__name__,env.gamma)]\n",
        "norm_values=[]\n",
        "Q0= np.random.rand(env.Ns,env.Na)\n",
        "Q, greedy_policy, Q_history = value_iteration(Q0, env,epsilon=1e-5 )\n",
        "norm_values=np.zeros(len(Q_history))\n",
        "for i in range(len(Q_history)):\n",
        "  norm_values[i]= np.linalg.norm(Q_history[i]-Qstar)\n",
        "  \n",
        "# TODO\n",
        "\n",
        "plt.plot(norm_values)\n",
        "plt.xlabel('Iteration')\n",
        "plt.ylabel('Error')\n",
        "plt.title(\"Q-learning: Convergence of Q\")"
      ],
      "execution_count": 0,
      "outputs": []
    },
    {
      "cell_type": "code",
      "metadata": {
        "id": "FbzFs3tDvcJy",
        "colab_type": "code",
        "colab": {}
      },
      "source": [
        "state = env.reset()\n",
        "env.render()\n",
        "for i in range(50):\n",
        "    action = greedy_policy[state]\n",
        "    state, reward, done, _ = env.step(action)\n",
        "    env.render()"
      ],
      "execution_count": 0,
      "outputs": []
    },
    {
      "cell_type": "markdown",
      "metadata": {
        "id": "azfXmRzZOPf4",
        "colab_type": "text"
      },
      "source": [
        "## Question 2: Q learning\n",
        "Q learning is a model-free algorithm for estimating the optimal Q-function online.\n",
        "It is an off-policy algorithm since the samples are collected with a policy that is (potentially) not the one associated to the estimated Q-function.\n",
        "\n",
        "1. Implement Q learning with $\\epsilon$-greedy exploration.\n",
        "  - Plot the error in Q-functions over iterations\n",
        "  - Plot the cumulative sum of rewards"
      ]
    },
    {
      "cell_type": "code",
      "metadata": {
        "id": "CKTc5nWIOPf6",
        "colab_type": "code",
        "colab": {}
      },
      "source": [
        "# ---------------------------\n",
        "# Q-Learning\n",
        "# ---------------------------\n",
        "# suggested interface\n",
        "# you can change it!\n",
        "# --------------\n",
        "# Point 1\n",
        "# --------------\n",
        "# Number of Q learning steps\n",
        "max_steps = int(1e6)  \n",
        "# max_steps = 10\n",
        "state = env.reset()\n",
        "Q0 = np.zeros((env.Ns, env.Na))\n",
        "# Use the previous code to verify the correctness of q learning\n",
        "Q_opt, pi_opt, Q_history = value_iteration(Q0, env, epsilon=1e-8)\n",
        "Q=Q0\n",
        "eps= 0.1\n",
        "\n",
        "\n",
        "# main algorithmic loop\n",
        "norm_values = []\n",
        "for i in range(20):\n",
        "  N = np.zeros((env.Ns, env.Na))\n",
        "  t = 0\n",
        "  while t < max_steps:\n",
        "      #print(t)\n",
        "      r= np.random.rand(1)\n",
        "      if r<=eps :\n",
        "        action= np.argmax(Q[state])\n",
        "      else:\n",
        "        action= np.random.choice(env.actions)\n",
        "      N[state,action]+=1\n",
        "      observation, reward, done, info = env.step(action)\n",
        "      norm_values.append(np.abs(Q - Q_opt).mean())\n",
        "      \n",
        "      # todo do something\n",
        "      t = t + 1\n",
        "      delta= reward + env.gamma* np.max(Q[observation])- Q[state,action]\n",
        "      Q[state,action]+= delta/N[state,action]\n",
        "      state= observation\n",
        "\n",
        "print(\"optimal policy: \", pi_opt)\n",
        "greedy_policy = np.argmax(Q, axis=1)\n",
        "print(\"est policy:\", greedy_policy)\n",
        "state = env.reset()\n",
        "env.render()\n",
        "for i in range(50):\n",
        "    action = greedy_policy[state]\n",
        "    state, reward, done, _ = env.step(action)\n",
        "    env.render()\n",
        "\n",
        "plt.plot(norm_values)\n",
        "plt.xlabel('Iteration')\n",
        "plt.ylabel('Error')\n",
        "plt.title(\"Q-learning: Convergence of Q\")\n",
        "\n",
        "# how confident are you in the performance of the algorithm? maybe a single run is not enough"
      ],
      "execution_count": 0,
      "outputs": []
    },
    {
      "cell_type": "code",
      "metadata": {
        "id": "ihyGR4xoznbl",
        "colab_type": "code",
        "colab": {}
      },
      "source": [
        ""
      ],
      "execution_count": 0,
      "outputs": []
    }
  ]
}